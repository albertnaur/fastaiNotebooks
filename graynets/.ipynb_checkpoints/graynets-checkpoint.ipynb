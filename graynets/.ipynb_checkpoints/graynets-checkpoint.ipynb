{
 "cells": [
  {
   "cell_type": "code",
   "execution_count": 1,
   "metadata": {},
   "outputs": [],
   "source": [
    "# Put these at the top of every notebook, to get automatic reloading and inline plotting\n",
    "%reload_ext autoreload\n",
    "%autoreload 2\n",
    "%matplotlib inline"
   ]
  },
  {
   "cell_type": "code",
   "execution_count": 5,
   "metadata": {},
   "outputs": [],
   "source": [
    "from fastai import *\n",
    "from fastai.vision import *\n",
    "from fastai.core import *\n",
    "import PIL"
   ]
  },
  {
   "cell_type": "code",
   "execution_count": 3,
   "metadata": {},
   "outputs": [],
   "source": [
    "import colorcet as cc\n",
    "\n",
    "cmap_grey = cc.cm.linear_grey_0_100_c0"
   ]
  },
  {
   "cell_type": "code",
   "execution_count": 4,
   "metadata": {},
   "outputs": [],
   "source": [
    "#functions to convert the nn architecture to grayscale input\n",
    "#from fastai.core import *\n",
    "\n",
    "def getGrayStats( imagenet_stats = ([0.485, 0.456, 0.406], [0.229, 0.224, 0.225]) ):\n",
    "    stats = imagenet_stats\n",
    "    s=np.asarray(stats)\n",
    "    st = []\n",
    "    if len(s.shape)>=2 and s.shape[1] > 1:\n",
    "        st.append( torch.from_numpy( np.asarray( np.mean(s[0]) ) ).float() )\n",
    "        st.append( torch.from_numpy( np.asarray( np.sqrt( sum(s[1]*s[1]) / s.shape[1] ) ) ).float() ) \n",
    "    return st\n",
    "\n",
    "#def set_trainable(l, b):apply_leaf(l, lambda m: set_trainable_attr(m,b))\n",
    "#def set_trainable_attr(m,b):\n",
    "#    m.trainable=b\n",
    "#    for p in m.parameters(): p.requires_grad=b\n",
    "        \n",
    "def rgbModule2gray(module, rgb2gray=[0.299, 0.587, 0.114] ):\n",
    "    #Take the average of the weights with: rgb2gray=[1., 1., 1.] ):\n",
    "    #Or use the grayscale conversion from opencv:Y = 0.299 R + 0.587 G + 0.114 B\n",
    "    n1,l_rgb = list(module.named_children())[0]\n",
    "    #print(\"inputlayer:\\nFilter size: \", l_rgb.weight.data.cpu().numpy().shape, \"\\nLayer definition: \",  str(l_rgb))\n",
    "    rgb2gray = 3.0*np.asarray(rgb2gray) / sum(rgb2gray)\n",
    "    #print(f\"3*rgb2gray: {rgb2gray}\")\n",
    "          \n",
    "    #create a 1 channel layer that is the sum of the three rgb channels\n",
    "    conv_2d_gray = nn.Conv2d(1, out_channels=l_rgb.out_channels, kernel_size=l_rgb.kernel_size, \n",
    "                             stride=l_rgb.stride, padding=l_rgb.padding, bias=l_rgb.bias)\n",
    "\n",
    "    #make np view on the weights and converet the rgb weights to gray weights for each pixel\n",
    "    rgb_weight  = l_rgb.weight.data.cpu().numpy()\n",
    "    gray_weight = conv_2d_gray.weight.data.cpu().numpy()\n",
    "    strength    = np.zeros(rgb_weight.shape[0])\n",
    "    for i in range( 0, rgb_weight.shape[0] ):\n",
    "        #sum together the filter filter form each of the rgb channels with separate weighing of each channel\n",
    "        \n",
    "        s2 =  (rgb2gray[0]*rgb_weight[i,0] + rgb2gray[1]*rgb_weight[i,1] + rgb2gray[2]*rgb_weight[i,2] )\n",
    "        #s1 = np.sum( rgb_weight[i], 0 ) \n",
    "        #print(f\"s1.shape:{s1.shape} s2.shape:{s2.shape}\")\n",
    "        #print(f\"s1:{s1[-2:,0]} \\ns2:{s2[-2:,0]}\")\n",
    "        gray_weight[i] = s2\n",
    "        strength[i]    = np.sum(np.abs(gray_weight[i]))\n",
    "\n",
    "    #sort the filter so the stroomng filter ar placede first (for visualization purposes)\n",
    "    ix_sort = np.argsort(-strength)\n",
    "    conv_2d_gray.weight = torch.nn.Parameter( torch.from_numpy(gray_weight[ix_sort]) )\n",
    "\n",
    "    #freeze the gray layer\n",
    "    set_trainable(conv_2d_gray,False)            \n",
    "            \n",
    "    #extract all but the first layer\n",
    "    m_children = list(module.children())[1:]\n",
    "            \n",
    "    #insert a the new gray first\n",
    "    m_children.insert(0,conv_2d_gray)\n",
    "    \n",
    "    #return the module that takes a grayscale image as input\n",
    "    module = nn.Sequential( *m_children )\n",
    "    return module\n",
    "\n",
    "\n",
    "#Small classs to intercept the instantiation of the model in cnn_create and convert the input filter to grayscale \n",
    "class Model2Grayscale:\n",
    "    def __init__( self, arch ):\n",
    "        self.arch = arch\n",
    "    def __call__(self, pretrained): \n",
    "        module = self.arch(pretrained)\n",
    "        module = rgbModule2gray(module)    \n",
    "        return module    "
   ]
  },
  {
   "cell_type": "code",
   "execution_count": 16,
   "metadata": {},
   "outputs": [
    {
     "name": "stdout",
     "output_type": "stream",
     "text": [
      "Name of first layer:conv1\n",
      "Definition of first layer:Conv2d(3, 64, kernel_size=(7, 7), stride=(2, 2), padding=(3, 3), bias=False) \n",
      "64\n",
      "8\n",
      "8\n"
     ]
    },
    {
     "data": {
      "text/plain": [
       "8.0"
      ]
     },
     "execution_count": 16,
     "metadata": {},
     "output_type": "execute_result"
    }
   ],
   "source": [
    "rgbModel = models.resnet34(pretrained=True)\n",
    "l1_name,l1_module = list(rgbModel.named_children())[0]\n",
    "print(f\"Name of first layer:{l1_name}\\nDefinition of first layer:{l1_module} \")\n",
    "\n",
    "nFilters = l1_module.weight.size()[0]\n",
    "ncols    = int( math.sqrt( nFilters ) )\n",
    "rows     = int( math.ceil( nFilters/ncols ) ) \n",
    "\n",
    "print(nFilters)\n",
    "print(ncols)\n",
    "print(rows)\n",
    "#fig,axes = plt.subplots(nrows=nrows, ncols=ncols, figsize = (12,12), dpi=100 )\n",
    "#axes     = axes.flatten()\n",
    "#for i,f in enumerate(files):\n",
    "#    im = np.asarray(Image.open(f).convert(\"I\")) / 65535.\n",
    "#   axes[i].imshow(  im, cmap=cmap_grey )\n",
    "#    axes[i].set_title(f.name)\n",
    "nFilters/ncols"
   ]
  },
  {
   "cell_type": "code",
   "execution_count": null,
   "metadata": {},
   "outputs": [],
   "source": [
    "#learn = create_cnn( data, Model2Grayscale(models.resnet34), metrics=error_rate )\n"
   ]
  }
 ],
 "metadata": {
  "kernelspec": {
   "display_name": "Python 3",
   "language": "python",
   "name": "python3"
  },
  "language_info": {
   "codemirror_mode": {
    "name": "ipython",
    "version": 3
   },
   "file_extension": ".py",
   "mimetype": "text/x-python",
   "name": "python",
   "nbconvert_exporter": "python",
   "pygments_lexer": "ipython3",
   "version": "3.6.6"
  }
 },
 "nbformat": 4,
 "nbformat_minor": 2
}
